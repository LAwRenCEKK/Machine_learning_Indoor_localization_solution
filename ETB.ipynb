{
 "cells": [
  {
   "cell_type": "markdown",
   "metadata": {},
   "source": [
    "# Experiment for downstream localization models at ETB"
   ]
  },
  {
   "cell_type": "code",
   "execution_count": 1,
   "metadata": {},
   "outputs": [],
   "source": [
    "# Dataset: MDCC Data Set \n",
    "# Candidates for downstream models:\n",
    "# KNN, Random Forest (RF), Decision Tree (DT) and Gasussian Processes (GSs)"
   ]
  },
  {
   "cell_type": "code",
   "execution_count": 2,
   "metadata": {},
   "outputs": [],
   "source": [
    "import numpy as np\n",
    "import json\n",
    "import math\n",
    "import glob\n",
    "import os\n",
    "import google.protobuf\n",
    "from collections import Counter\n",
    "import matplotlib.pyplot as plt\n",
    "import sklearn\n",
    "import pandas as pd \n",
    "from pandas import DataFrame, concat\n",
    "from sklearn.neighbors import KNeighborsRegressor, KNeighborsClassifier\n",
    "import pandas as pd\n",
    "import numpy as np\n",
    "import matplotlib.pyplot as plt\n",
    "import math\n",
    "from numpy import linalg as LA\n",
    "import statistics\n",
    "import matplotlib.pyplot as plt\n",
    "import importlib"
   ]
  },
  {
   "cell_type": "code",
   "execution_count": 3,
   "metadata": {},
   "outputs": [],
   "source": [
    "buildingname =  'ETB'\n",
    "floorlevel = 1"
   ]
  },
  {
   "cell_type": "code",
   "execution_count": 4,
   "metadata": {},
   "outputs": [],
   "source": [
    "import Data_pb2\n",
    "from Utils import distance,offset_coord,gps_fromxy,gps2local,get_file_list,load_data_packs,location_interpolate\n",
    "from Utils import parse_path_packages,parse_point_packages\n",
    "\n",
    "#load building information\n",
    "with open('building_dict.json') as fin:\n",
    "    building_dict = json.load(fin)\n",
    "\n",
    "#find a reference gps location for a local coordinate system\n",
    "gpspo = np.array(building_dict[buildingname]['gpspo'])\n",
    "gps_origin=tuple(np.min(gpspo,axis=0))"
   ]
  },
  {
   "cell_type": "code",
   "execution_count": 5,
   "metadata": {},
   "outputs": [
    {
     "name": "stdout",
     "output_type": "stream",
     "text": [
      "The data folder is in: FpData/ETB/1\n",
      "The number of path-based collection 7\n",
      "['/Users/lawrence/Downloads/IPS/FpData/ETB/1/liu433_1_20190901125344.pbf', '/Users/lawrence/Downloads/IPS/FpData/ETB/1/liu433_1_20190901125457.pbf', '/Users/lawrence/Downloads/IPS/FpData/ETB/1/shil9_1_20190930165458.pbf', '/Users/lawrence/Downloads/IPS/FpData/ETB/1/campbi1_1_20191017163913.pbf', '/Users/lawrence/Downloads/IPS/FpData/ETB/1/elmokatk_1_20191128130055.pbf', '/Users/lawrence/Downloads/IPS/FpData/ETB/1/gelerius_1_20191004180216.pbf', '/Users/lawrence/Downloads/IPS/FpData/ETB/1/gelerius_1_20191004151918.pbf']\n",
      "The number of point-based collection 0\n",
      "The number of test points 20\n"
     ]
    }
   ],
   "source": [
    "#Load the data packages\n",
    "data_folder = os.path.join('FpData',buildingname,str(floorlevel))\n",
    "print('The data folder is in:',data_folder)\n",
    "#1. Load path-based data and verify the building and floor level\n",
    "path_packages = []\n",
    "path_data_files = get_file_list(data_folder, 1)\n",
    "if len(path_data_files)>0:\n",
    "    path_packages = load_data_packs(path_data_files)\n",
    "    for i,path_package in enumerate(path_packages):\n",
    "        assert path_package.buildingName==buildingname, \"building mismatch, delete file and retry: \"+path_data_files[i]\n",
    "        assert int(path_package.floorLevel)==int(floorlevel), \"floor mismatch, delete fine and retry:\"+path_data_files[i]\n",
    "print('The number of path-based collection',len(path_packages))\n",
    "print(path_data_files)\n",
    "#2. Load the point-based data and verify the building and floor level\n",
    "point_packages = []\n",
    "point_data_files = get_file_list(data_folder, 2)\n",
    "if len(point_data_files)>0:\n",
    "    point_packages = load_data_packs(point_data_files)\n",
    "    for i,point_package in enumerate(point_packages):\n",
    "        assert point_package.buildingName==buildingname, \"building  mismatch,delete file and retry:\"+point_data_files[i]\n",
    "        assert int(point_package.floorLevel)==int(floorlevel), \"floor  mismatch,delete file and retry:\"+point_data_files[i]\n",
    "print('The number of point-based collection',len(point_packages))\n",
    "\n",
    "#3. Load the test data\n",
    "test_packages = []\n",
    "test_data_files = get_file_list(os.path.join('FpData',buildingname,str(floorlevel),'test'), 2)\n",
    "if len(test_data_files)>0:\n",
    "    test_packages = load_data_packs(test_data_files)\n",
    "    for test_package in point_packages:\n",
    "        assert test_package.buildingName==buildingname, \"building name mismatch\"\n",
    "        assert test_package.floorLevel==floorlevel, \"floor level mismatch\"\n",
    "print('The number of test points',len(test_packages))\n"
   ]
  },
  {
   "cell_type": "code",
   "execution_count": 8,
   "metadata": {},
   "outputs": [],
   "source": [
    "# APs seen by less than this value will be ignored.\n",
    "Freq_threshold = 35\n",
    "\n",
    "#Select the Effective Access Points since some Access Points may just temporary\n",
    "AP_bssids = []\n",
    "for pack in point_packages:\n",
    "    for e in pack.rssItems:\n",
    "        AP_bssids.append(e.bssid)\n",
    "for pack in path_packages:\n",
    "    for e in pack.rssItems:\n",
    "        AP_bssids.append(e.bssid)\n",
    "AP_bssids_count = dict(Counter(AP_bssids))\n",
    "#remove APs only seen sporadically. \n",
    "AP_bssids_common = {k:v for k,v in AP_bssids_count.items() if v > Freq_threshold}\n",
    "#create a dict for the AP_bssid index for convenience to organize the fingerprint vector\n",
    "AP_bssids_index_dict = {k:v for k,v in zip(AP_bssids_common.keys(),range(len(AP_bssids_common)))}\n",
    "\n",
    "if len(AP_bssids_index_dict)<3:\n",
    "    print('Error, AP_bssids_index_dict is too small, please collect more data or set Freq_threshold to a smaller value')"
   ]
  },
  {
   "cell_type": "code",
   "execution_count": 9,
   "metadata": {},
   "outputs": [
    {
     "name": "stdout",
     "output_type": "stream",
     "text": [
      "path length is 55.147951 meter\n",
      "path length is 53.853781 meter\n",
      "path length is 64.081829 meter\n",
      "path length is 50.583079 meter\n",
      "path length is 15.883939 meter\n",
      "path length is 27.246838 meter\n",
      "path length is 54.393225 meter\n",
      "79\n",
      "8\n"
     ]
    }
   ],
   "source": [
    "path_FPs, path_labels = parse_path_packages(path_packages,AP_bssids_index_dict)\n",
    "point_FPs, point_labels = parse_point_packages(point_packages,AP_bssids_index_dict)\n",
    "test_FPs, test_labels = parse_point_packages(test_packages,AP_bssids_index_dict)\n",
    "print (len(path_FPs))\n",
    "print (len(path_FPs[0]))"
   ]
  },
  {
   "cell_type": "code",
   "execution_count": 17,
   "metadata": {},
   "outputs": [
    {
     "data": {
      "image/png": "[encoded data removed]",
      "text/plain": [
       "<Figure size 357.144x792.884 with 1 Axes>"
      ]
     },
     "metadata": {
      "needs_background": "light"
     },
     "output_type": "display_data"
    }
   ],
   "source": [
    "#plot your target building structure and the locations you collected data\n",
    "local_poly = [offset_coord(gps_origin[1],gps_origin[0],lat,lon) for lon,lat in gpspo]\n",
    "x_scale,y_scale=np.max(local_poly,axis=0) - np.min(local_poly,axis=0)\n",
    "fig, ax = plt.subplots(1, 1, figsize=(x_scale*0.15,y_scale*0.15)) \n",
    "local_poly = np.array(local_poly)\n",
    "ax.plot(*zip(*local_poly))\n",
    "\n",
    "path_locs = gps2local(gps_origin,path_labels)\n",
    "point_locs = gps2local(gps_origin,point_labels)\n",
    "test_locs = gps2local(gps_origin,test_labels)\n",
    "\n",
    "train_data = pd.DataFrame(np.append(np.array(path_FPs),np.array(test_FPs),axis=0),index=None, columns=None)\n",
    "train_locs = pd.DataFrame(np.append(np.array(path_locs),np.array(test_locs),axis=0),index=None, columns=None)\n",
    "# drop null\n",
    "train_data.drop(train_locs[train_locs[0].isna()].index,inplace=True)\n",
    "train_locs.dropna(inplace=True)\n",
    "data_set = pd.concat([train_data,train_locs],axis=1)\n",
    "\n",
    "training_data = np.array(data_set)[50:90]\n",
    "\n",
    "\n",
    "\n",
    "\n",
    "ax.scatter(np.array(data_set)[:10][:,-2],np.array(data_set)[:10][:,-1],c='black',marker='*',label=\"Training 20L\")\n",
    "ax.scatter(np.array(data_set)[50:60][:,-2],np.array(data_set)[50:60][:,-1],c='blue',marker='*',label=\"Test\")\n",
    "ax.scatter(np.array(data_set)[60:70][:,-2],np.array(data_set)[60:70][:,-1],c='orange',marker='*',label=\"Training 10L\")\n",
    "ax.scatter(np.array(data_set)[70:80][:,-2],np.array(data_set)[70:80][:,-1],c='pink',marker='*',label=\"Training 40L\")\n",
    "ax.scatter(np.array(data_set)[80:90][:,-2],np.array(data_set)[80:90][:,-1],c='green',marker='*',label=\"Training 30L\")\n",
    "ax.legend()\n",
    "plt.show()"
   ]
  },
  {
   "cell_type": "code",
   "execution_count": 39,
   "metadata": {},
   "outputs": [
    {
     "data": {
      "text/plain": [
       "(10, 10)"
      ]
     },
     "execution_count": 39,
     "metadata": {},
     "output_type": "execute_result"
    }
   ],
   "source": [
    "test_data = np.array(data_set)[50:60]\n",
    "test_data.shape"
   ]
  },
  {
   "cell_type": "code",
   "execution_count": 28,
   "metadata": {},
   "outputs": [
    {
     "data": {
      "text/plain": [
       "(40, 10)"
      ]
     },
     "execution_count": 28,
     "metadata": {},
     "output_type": "execute_result"
    }
   ],
   "source": [
    "training_data = pd.concat([data_set[60:70],data_set[:10],data_set[80:90],data_set[70:80]],axis=0).to_numpy()\n",
    "training_data.shape"
   ]
  },
  {
   "cell_type": "code",
   "execution_count": 29,
   "metadata": {},
   "outputs": [],
   "source": [
    "# shuffling the training data \n",
    "# np.random.shuffle(training_data)"
   ]
  },
  {
   "cell_type": "markdown",
   "metadata": {},
   "source": [
    "# Downstream model performacne evaluation"
   ]
  },
  {
   "cell_type": "code",
   "execution_count": 30,
   "metadata": {},
   "outputs": [],
   "source": [
    "training_data_10L =  training_data[:10]\n",
    "training_data_10U =  training_data[10:20]\n",
    "training_data_20L =  training_data[:20]\n",
    "training_data_20U =  training_data[10:30]\n",
    "training_data_30L =  training_data[:30]\n",
    "training_data_30U =  training_data[10:40]\n",
    "training_data_40L =  training_data[:40]"
   ]
  },
  {
   "cell_type": "code",
   "execution_count": null,
   "metadata": {},
   "outputs": [],
   "source": []
  },
  {
   "cell_type": "code",
   "execution_count": null,
   "metadata": {},
   "outputs": [],
   "source": []
  },
  {
   "cell_type": "code",
   "execution_count": 31,
   "metadata": {},
   "outputs": [],
   "source": [
    "# Label Propagation "
   ]
  },
  {
   "cell_type": "code",
   "execution_count": 32,
   "metadata": {},
   "outputs": [
    {
     "data": {
      "text/plain": [
       "<module 'DG_SSL.dg_ssl' from '/Users/lawrence/Downloads/IPS/DG_SSL/dg_ssl.py'>"
      ]
     },
     "execution_count": 32,
     "metadata": {},
     "output_type": "execute_result"
    }
   ],
   "source": [
    "import downstream_models.localization_models as models\n",
    "importlib.reload(models)\n",
    "import DG_SSL.dg_ssl as dg_ssl\n",
    "importlib.reload(dg_ssl)"
   ]
  },
  {
   "cell_type": "code",
   "execution_count": 44,
   "metadata": {},
   "outputs": [
    {
     "data": {
      "text/plain": [
       "array([[-93.        , -93.        , -54.        , -93.        ,\n",
       "        -93.        , -70.        , -66.        , -93.        ,\n",
       "         16.80412771,  56.27837323],\n",
       "       [-93.        , -93.        , -55.        , -93.        ,\n",
       "        -93.        , -66.        , -68.        , -93.        ,\n",
       "         16.87136908,  53.79077774],\n",
       "       [-93.        , -93.        , -93.        , -93.        ,\n",
       "        -93.        , -62.        , -74.        , -93.        ,\n",
       "         16.93904537,  51.2870926 ],\n",
       "       [-93.        , -93.        , -93.        , -93.        ,\n",
       "        -71.        , -65.        , -78.        , -93.        ,\n",
       "         17.00639231,  48.79559152],\n",
       "       [-93.        , -68.        , -93.        , -69.        ,\n",
       "        -64.        , -70.        , -93.        , -93.        ,\n",
       "         17.0940805 ,  45.55156603],\n",
       "       [-93.        , -93.        , -93.        , -93.        ,\n",
       "        -64.        , -74.        , -93.        , -93.        ,\n",
       "         17.1633317 ,  42.98961662],\n",
       "       [-64.        , -64.        , -93.        , -93.        ,\n",
       "        -60.        , -79.        , -93.        , -93.        ,\n",
       "         17.23066153,  40.49874906],\n",
       "       [-93.        , -93.        , -93.        , -93.        ,\n",
       "        -60.        , -82.        , -93.        , -93.        ,\n",
       "         17.29663085,  38.05821292],\n",
       "       [-93.        , -93.        , -93.        , -93.        ,\n",
       "        -93.        , -85.        , -93.        , -93.        ,\n",
       "         17.3636325 ,  35.57948595],\n",
       "       [-58.        , -58.        , -93.        , -93.        ,\n",
       "        -76.        , -93.        , -93.        , -93.        ,\n",
       "         17.43730265,  32.85405812],\n",
       "       [-56.        , -57.        , -73.        , -93.        ,\n",
       "        -93.        , -93.        , -93.        , -93.        ,\n",
       "         18.90028989,  16.70463691],\n",
       "       [-61.        , -62.        , -77.        , -78.        ,\n",
       "        -75.        , -93.        , -93.        , -93.        ,\n",
       "         18.46067862,  27.55940027],\n",
       "       [-58.        , -57.        , -76.        , -78.        ,\n",
       "        -67.        , -93.        , -93.        , -93.        ,\n",
       "         18.02047554,  38.42877621],\n",
       "       [-66.        , -67.        , -93.        , -93.        ,\n",
       "        -93.        , -93.        , -93.        , -93.        ,\n",
       "         14.47708121,  69.88651064],\n",
       "       [-68.        , -68.        , -93.        , -93.        ,\n",
       "        -81.        , -64.        , -58.        , -93.        ,\n",
       "         15.25283393,  60.46719032],\n",
       "       [-62.        , -62.        , -93.        , -93.        ,\n",
       "        -68.        , -67.        , -84.        , -93.        ,\n",
       "         16.02496874,  51.09179932],\n",
       "       [-59.        , -60.        , -93.        , -69.        ,\n",
       "        -61.        , -76.        , -85.        , -93.        ,\n",
       "         16.79978109,  41.68389733],\n",
       "       [-59.        , -65.        , -93.        , -69.        ,\n",
       "        -61.        , -77.        , -91.        , -93.        ,\n",
       "         16.99260528,  39.34259345],\n",
       "       [-57.        , -58.        , -93.        , -93.        ,\n",
       "        -77.        , -93.        , -93.        , -93.        ,\n",
       "         17.57222569,  32.30474475],\n",
       "       [-93.        , -56.        , -93.        , -93.        ,\n",
       "        -93.        , -93.        , -93.        , -93.        ,\n",
       "         18.34338655,  22.94117966],\n",
       "       [-93.        , -93.        , -93.        , -93.        ,\n",
       "        -93.        , -93.        , -79.        , -93.        ,\n",
       "         15.90977898,  71.57070442],\n",
       "       [-88.        , -88.5       , -93.        , -93.        ,\n",
       "        -93.        , -93.        , -72.5       , -93.        ,\n",
       "         16.15111519,  72.68984888],\n",
       "       [-93.        , -93.        , -93.        , -93.        ,\n",
       "        -87.        , -93.        , -93.        , -93.        ,\n",
       "         17.50342768,  28.77542171],\n",
       "       [-93.        , -86.5       , -93.        , -93.        ,\n",
       "        -87.        , -93.        , -82.        , -93.        ,\n",
       "         17.28402825,  54.78522693],\n",
       "       [-93.        , -93.        , -83.        , -82.        ,\n",
       "        -50.        , -93.        , -93.        , -93.        ,\n",
       "         19.17645068,  41.00444407],\n",
       "       [-77.        , -93.        , -76.        , -76.        ,\n",
       "        -93.        , -93.        , -68.        , -93.        ,\n",
       "         16.571945  ,  73.08018266],\n",
       "       [-93.        , -93.        , -93.        , -93.        ,\n",
       "        -80.5       , -93.        , -93.        , -93.        ,\n",
       "         18.15466736,  47.35625406],\n",
       "       [-53.        , -54.        , -93.        , -93.        ,\n",
       "        -84.        , -93.        , -93.        , -93.        ,\n",
       "         22.45002875,  21.89115269],\n",
       "       [-66.        , -66.        , -93.        , -93.        ,\n",
       "        -82.        , -93.        , -93.        , -93.        ,\n",
       "         17.67846775,  28.69342578],\n",
       "       [-77.        , -77.        , -93.        , -93.        ,\n",
       "        -93.        , -93.        , -93.        , -93.        ,\n",
       "         23.95376439,  22.20078499],\n",
       "       [-93.        , -58.        , -93.        , -93.        ,\n",
       "        -80.        , -93.        , -93.        , -93.        ,\n",
       "         17.50369955,  30.39770376],\n",
       "       [-54.        , -53.        , -93.        , -93.        ,\n",
       "        -93.        , -93.        , -93.        , -93.        ,\n",
       "         17.70478347,  22.95860179],\n",
       "       [-93.        , -60.        , -93.        , -93.        ,\n",
       "        -93.        , -93.        , -93.        , -93.        ,\n",
       "         17.77218707,  20.46500472],\n",
       "       [-93.        , -93.        , -93.        , -93.        ,\n",
       "        -93.        , -93.        , -54.5       , -93.        ,\n",
       "         16.9855179 ,  62.57296757],\n",
       "       [-93.        , -93.        , -79.        , -79.        ,\n",
       "        -74.        , -93.        , -66.        , -93.        ,\n",
       "         17.79394857,  55.42356675],\n",
       "       [-93.        , -93.        , -93.        , -93.        ,\n",
       "        -93.        , -93.        , -70.5       , -93.        ,\n",
       "         16.93551058,  62.36439672],\n",
       "       [-75.        , -75.        , -78.        , -78.        ,\n",
       "        -59.        , -93.        , -70.        , -93.        ,\n",
       "         18.12145904,  47.08685873],\n",
       "       [-58.5       , -59.        , -93.        , -93.        ,\n",
       "        -93.        , -93.        , -93.        , -93.        ,\n",
       "         18.17035133,  22.07513769],\n",
       "       [-85.        , -84.5       , -93.        , -93.        ,\n",
       "        -83.        , -93.        , -93.        , -93.        ,\n",
       "         17.51915501,  51.40590552],\n",
       "       [-93.        , -75.        , -60.        , -60.        ,\n",
       "        -93.        , -93.        , -57.        , -93.        ,\n",
       "         17.18485378,  63.32833149]])"
      ]
     },
     "execution_count": 44,
     "metadata": {},
     "output_type": "execute_result"
    }
   ],
   "source": [
    "training_data"
   ]
  },
  {
   "cell_type": "code",
   "execution_count": 34,
   "metadata": {},
   "outputs": [
    {
     "name": "stdout",
     "output_type": "stream",
     "text": [
      "9.530082410490682\n",
      "0.8153136981927356\n"
     ]
    }
   ],
   "source": [
    "propagation_results_10L_10U = dg_ssl.dg_ssl_init(training_data_10L,training_data_10U)[0]\n",
    "print (dg_ssl.prop_error(propagation_results_10L_10U[10:,-2:],training_data_10U[:,-2:]))\n",
    "print (dg_ssl.prop_error(propagation_results_10L_10U[:10,-2:],training_data_10L[:,-2:]))"
   ]
  },
  {
   "cell_type": "code",
   "execution_count": 35,
   "metadata": {},
   "outputs": [
    {
     "name": "stdout",
     "output_type": "stream",
     "text": [
      "14.863486433270964\n",
      "2.8032961181171983\n"
     ]
    }
   ],
   "source": [
    "propagation_results_10L_20U = dg_ssl.dg_ssl_init(training_data_10L,training_data_20U)[0]\n",
    "print (dg_ssl.prop_error(propagation_results_10L_20U[10:,-2:],training_data_20U[:,-2:]))\n",
    "print (dg_ssl.prop_error(propagation_results_10L_20U[:10,-2:],training_data_10L[:,-2:]))"
   ]
  },
  {
   "cell_type": "code",
   "execution_count": 36,
   "metadata": {},
   "outputs": [
    {
     "name": "stdout",
     "output_type": "stream",
     "text": [
      "14.652180325434774\n",
      "4.4428851194802785\n"
     ]
    }
   ],
   "source": [
    "propagation_results_10L_30U = dg_ssl.dg_ssl_init(training_data_10L,training_data_30U)[0]\n",
    "print (dg_ssl.prop_error(propagation_results_10L_30U[10:,-2:],training_data_30U[:,-2:]))\n",
    "print (dg_ssl.prop_error(propagation_results_10L_30U[:10,-2:],training_data_10L[:,-2:]))"
   ]
  },
  {
   "cell_type": "code",
   "execution_count": 37,
   "metadata": {},
   "outputs": [],
   "source": [
    "# model performance of KNN, DT and RF for different training data "
   ]
  },
  {
   "cell_type": "code",
   "execution_count": 40,
   "metadata": {},
   "outputs": [
    {
     "name": "stdout",
     "output_type": "stream",
     "text": [
      "Knn error(m) - 12.37288088175973\n",
      "Random Forest error(m)- 13.076647962751272\n",
      "Decision Tree error(m)- 12.607936759472995\n",
      " \n",
      "Knn error(m) - 12.37288088175973\n",
      "Random Forest error(m)- 14.11799889191688\n",
      "Decision Tree error(m)- 12.607936759472995\n",
      " \n",
      "Knn error(m) - 11.111153135414913\n",
      "Random Forest error(m)- 10.70329594220896\n",
      "Decision Tree error(m)- 12.006797536393336\n",
      " \n",
      "Knn error(m) - 6.672926735090927\n",
      "Random Forest error(m)- 6.052530699216385\n",
      "Decision Tree error(m)- 4.232675701911166\n",
      " \n",
      "Knn error(m) - 11.939172936924319\n",
      "Random Forest error(m)- 14.92992299238846\n",
      "Decision Tree error(m)- 11.939172936924319\n",
      " \n",
      "Knn error(m) - 9.834440388183737\n",
      "Random Forest error(m)- 14.944932559027858\n",
      "Decision Tree error(m)- 25.197213200049326\n",
      " \n",
      "Knn error(m) - 16.91226866760079\n",
      "Random Forest error(m)- 16.31449174498728\n",
      "Decision Tree error(m)- 16.91226866760079\n",
      " \n"
     ]
    }
   ],
   "source": [
    "downstream_models_results_10L = models.evaluation_reg(training_data_10L,test_data,[10,0])\n",
    "downstream_models_results_20L = models.evaluation_reg(training_data_20L,test_data,[20,0])\n",
    "downstream_models_results_30L = models.evaluation_reg(training_data_30L,test_data,[30,0])\n",
    "downstream_models_results_40L = models.evaluation_reg(training_data_40L,test_data,[40,0])\n",
    "downstream_models_results_10L_10U = models.evaluation_reg(propagation_results_10L_10U,test_data,[10,10])\n",
    "downstream_models_results_10L_20U = models.evaluation_reg(propagation_results_10L_20U,test_data,[10,20])\n",
    "downstream_models_results_10L_30U = models.evaluation_reg(propagation_results_10L_30U,test_data,[10,30])"
   ]
  },
  {
   "cell_type": "code",
   "execution_count": null,
   "metadata": {},
   "outputs": [],
   "source": [
    "# Model performance of GPs for different training data "
   ]
  },
  {
   "cell_type": "code",
   "execution_count": 56,
   "metadata": {},
   "outputs": [],
   "source": [
    "# Train GPs \n",
    "import importlib\n",
    "import gps_deployment.gps_starting as gps\n",
    "import gps_deployment.main_controller as gps1\n",
    "import gps_deployment.gaussian as gps2"
   ]
  },
  {
   "cell_type": "code",
   "execution_count": 54,
   "metadata": {},
   "outputs": [
    {
     "data": {
      "text/plain": [
       "<module 'gps_deployment.gaussian' from '/Users/lawrence/Downloads/IPS/gps_deployment/gaussian.py'>"
      ]
     },
     "execution_count": 54,
     "metadata": {},
     "output_type": "execute_result"
    }
   ],
   "source": [
    "importlib.reload(gps)\n",
    "importlib.reload(gps1)\n",
    "importlib.reload(gps2)"
   ]
  },
  {
   "cell_type": "code",
   "execution_count": 45,
   "metadata": {},
   "outputs": [],
   "source": [
    "gps_results_10L = gps.gps_start(8,training_data_10L)\n",
    "gps_results_20L = gps.gps_start(8,training_data_20L)\n",
    "gps_results_30L = gps.gps_start(8,training_data_30L)\n",
    "gps_results_40L = gps.gps_start(8,training_data_40L)"
   ]
  },
  {
   "cell_type": "code",
   "execution_count": 55,
   "metadata": {},
   "outputs": [
    {
     "name": "stdout",
     "output_type": "stream",
     "text": [
      "GPs error: 22.325797153248445\n",
      "GPs error: 28.43748393333351\n",
      "GPs error: 18.995456910472214\n",
      "GPs error: 14.400333873150096\n"
     ]
    }
   ],
   "source": [
    "rlt_10L = gps.gps_evaluation(gps_results_10L,8,test_data,[10,0])\n",
    "rlt_20L = gps.gps_evaluation(gps_results_20L,8,test_data,[20,0])\n",
    "rlt_30L = gps.gps_evaluation(gps_results_30L,8,test_data,[30,0])\n",
    "rlt_40L = gps.gps_evaluation(gps_results_40L,8,test_data,[40,0])"
   ]
  },
  {
   "cell_type": "code",
   "execution_count": 49,
   "metadata": {},
   "outputs": [],
   "source": [
    "gps_results_10L_10L = gps.gps_start(8,propagation_results_10L_10U)\n",
    "gps_results_10L_20L = gps.gps_start(8,propagation_results_10L_20U)\n",
    "gps_results_10L_30L = gps.gps_start(8,propagation_results_10L_30U)"
   ]
  },
  {
   "cell_type": "code",
   "execution_count": 57,
   "metadata": {},
   "outputs": [
    {
     "name": "stdout",
     "output_type": "stream",
     "text": [
      "GPs error: 21.333596189596634\n",
      "GPs error: 19.098471439772283\n",
      "GPs error: 27.853418990072228\n"
     ]
    }
   ],
   "source": [
    "rlt_10L_10U = gps.gps_evaluation(gps_results_10L_10L,8,test_data,[10,10])\n",
    "rlt_10L_20U = gps.gps_evaluation(gps_results_10L_20L,8,test_data,[10,20])\n",
    "rlt_10L_30U = gps.gps_evaluation(gps_results_10L_30L,8,test_data,[10,30])"
   ]
  },
  {
   "cell_type": "code",
   "execution_count": null,
   "metadata": {},
   "outputs": [],
   "source": []
  }
 ],
 "metadata": {
  "kernelspec": {
   "display_name": "Python 3",
   "language": "python",
   "name": "python3"
  },
  "language_info": {
   "codemirror_mode": {
    "name": "ipython",
    "version": 3
   },
   "file_extension": ".py",
   "mimetype": "text/x-python",
   "name": "python",
   "nbconvert_exporter": "python",
   "pygments_lexer": "ipython3",
   "version": "3.7.4"
  }
 },
 "nbformat": 4,
 "nbformat_minor": 2
}
